{
 "cells": [
  {
   "cell_type": "markdown",
   "metadata": {},
   "source": [
    "# MNISTでSRU"
   ]
  },
  {
   "cell_type": "code",
   "execution_count": 1,
   "metadata": {
    "collapsed": true
   },
   "outputs": [],
   "source": [
    "import os\n",
    "import time\n",
    "import math\n",
    "import numpy as np\n",
    "from sklearn.utils import shuffle\n",
    "from sklearn.model_selection import train_test_split\n",
    "from sklearn.datasets import fetch_mldata\n",
    "import torch\n",
    "import torch.nn as nn\n",
    "import torch.optim as optim\n",
    "from torch.autograd import Variable\n",
    "from models import SRU, GRU, LSTM\n",
    "\n",
    "gpu = True\n",
    "torch.cuda.set_device(2)\n",
    "seed = 42\n",
    "torch.manual_seed(seed)\n",
    "dir_path = './trained_models/ipynb'"
   ]
  },
  {
   "cell_type": "markdown",
   "metadata": {},
   "source": [
    "## 1. MNISTデータセット準備"
   ]
  },
  {
   "cell_type": "code",
   "execution_count": 2,
   "metadata": {
    "collapsed": true
   },
   "outputs": [],
   "source": [
    "def load_mnist():\n",
    "    mnist = fetch_mldata('MNIST original')\n",
    "    mnist_X, mnist_y = shuffle(mnist.data, mnist.target, random_state=seed)\n",
    "    mnist_X = mnist_X / 255.0\n",
    "\n",
    "    # pytorch用に型変換\n",
    "    mnist_X, mnist_y = mnist_X.astype('float32'), mnist_y.astype('int64')\n",
    "\n",
    "    # 2次元の画像を、各行を互い違いにして1次元に変換\n",
    "    def flatten_img(images):\n",
    "        '''\n",
    "        images: shape => (n, rows, columns)\n",
    "        output: shape => (n, rows*columns)\n",
    "        '''\n",
    "        n_rows    = images.shape[1]\n",
    "        n_columns = images.shape[2]\n",
    "        for num in range(n_rows):\n",
    "            if num % 2 != 0:\n",
    "                images[:, num, :] = images[:, num, :][:, ::-1]\n",
    "        output = images.reshape(-1, n_rows*n_columns)\n",
    "        return output\n",
    "\n",
    "    mnist_X = mnist_X.reshape(-1, 28, 28)\n",
    "    mnist_X = flatten_img(mnist_X) # X.shape => (n_samples, seq_len)\n",
    "    mnist_X = mnist_X[:, :, np.newaxis] # X.shape => (n_samples, seq_len, n_features)\n",
    "\n",
    "    # 訓練、テストデータに分割\n",
    "    train_X, test_X, train_y, test_y = train_test_split(mnist_X, mnist_y,\n",
    "                                                        test_size=0.2,\n",
    "                                                        random_state=seed)\n",
    "    return train_X, test_X, train_y, test_y\n",
    "\n",
    "train_X, test_X, train_y, test_y = load_mnist()"
   ]
  },
  {
   "cell_type": "markdown",
   "metadata": {},
   "source": [
    "## 2. 訓練の準備"
   ]
  },
  {
   "cell_type": "code",
   "execution_count": 3,
   "metadata": {
    "collapsed": true
   },
   "outputs": [],
   "source": [
    "# 計算時間を表示させる\n",
    "def timeSince(since):\n",
    "    now = time.time()\n",
    "    s = now - since\n",
    "    m = math.floor(s / 60)\n",
    "    s -= m * 60\n",
    "    return '%dm %ds' % (m, s)\n",
    "\n",
    "# batchあたりの訓練\n",
    "def train(model, inputs, labels, optimizer, criterion, clip):\n",
    "    batch_size = inputs.size(1)\n",
    "    model.initHidden(batch_size) # 隠れ変数の初期化\n",
    "    optimizer.zero_grad() # 勾配の初期化\n",
    "    outputs = model(inputs)\n",
    "    loss = criterion(outputs, labels)\n",
    "    torch.nn.utils.clip_grad_norm(model.parameters(), clip) # gradient clipping\n",
    "    loss.backward()\n",
    "    optimizer.step()\n",
    "    acc = (torch.max(outputs, 1)[1] == labels).sum().data[0] / batch_size\n",
    "    return loss.data[0], acc\n",
    "\n",
    "# 検証\n",
    "def test(model, inputs, labels, criterion):\n",
    "    batch_size = inputs.size(1)\n",
    "    model.initHidden(batch_size)\n",
    "    outputs = model(inputs)\n",
    "    loss = criterion(outputs, labels)\n",
    "    acc = (torch.max(outputs, 1)[1] == labels).sum().data[0] / batch_size\n",
    "    return loss.data[0], acc\n",
    "\n",
    "# モデルの保存\n",
    "def checkpoint(model, optimizer, acc):\n",
    "    filename = os.path.join(dir_path, '%s_acc-%d' % (model.__class__.__name__, acc))\n",
    "    # modelの状態保存\n",
    "    torch.save(model.state_dict(), filename + '.model')\n",
    "    # optimizerの状態保存\n",
    "    torch.save(optimizer.state_dict(), filename + '.state')"
   ]
  },
  {
   "cell_type": "markdown",
   "metadata": {},
   "source": [
    "## 3. モデル、パラメータの設定"
   ]
  },
  {
   "cell_type": "code",
   "execution_count": 4,
   "metadata": {
    "collapsed": true
   },
   "outputs": [],
   "source": [
    "input_size = train_X.shape[2]\n",
    "output_size = np.unique(train_y).size\n",
    "\n",
    "# パラメータの設定\n",
    "lr = 0.0005\n",
    "weight_decay = 0.0005\n",
    "dropout = 0.8\n",
    "clip = 1"
   ]
  },
  {
   "cell_type": "code",
   "execution_count": 5,
   "metadata": {
    "collapsed": true
   },
   "outputs": [],
   "source": [
    "def load_model(model_name):\n",
    "    if model_name == 'sru':\n",
    "        phi_size      = 200\n",
    "        r_size        = 60\n",
    "        cell_out_size = 200\n",
    "    elif model_name in ['gru', 'lstm']:\n",
    "        hidden_size = 200\n",
    "        num_layers  = 1\n",
    "        init_forget_bias = 1\n",
    "    \n",
    "    # モデルのインスタンス作成\n",
    "    if model_name == 'sru':\n",
    "        model = SRU(input_size, phi_size, r_size, cell_out_size, output_size, dropout=dropout, gpu=gpu)\n",
    "        model.initWeight()\n",
    "    elif model_name == 'gru':\n",
    "        model = GRU(input_size, hidden_size, output_size, num_layers, dropout, gpu=gpu)\n",
    "        model.initWeight(init_forget_bias)\n",
    "    elif model_name == 'lstm':\n",
    "        model = LSTM(input_size, hidden_size, output_size, num_layers, dropout, gpu=gpu)\n",
    "        model.initWeight(init_forget_bias)\n",
    "    if gpu == True:\n",
    "        model.cuda()\n",
    "\n",
    "    return model"
   ]
  },
  {
   "cell_type": "code",
   "execution_count": 6,
   "metadata": {
    "collapsed": true
   },
   "outputs": [],
   "source": [
    "model = load_model('sru')\n",
    "# loss, optimizerの定義\n",
    "criterion = nn.CrossEntropyLoss()\n",
    "optimizer = optim.Adam(model.parameters(), lr=lr, weight_decay=weight_decay)"
   ]
  },
  {
   "cell_type": "markdown",
   "metadata": {},
   "source": [
    "## 4. 訓練済みモデルのロード（optional）"
   ]
  },
  {
   "cell_type": "markdown",
   "metadata": {},
   "source": [
    "- ToDo: optimizerをcpu, gpuともに対応させてloadできるようにする"
   ]
  },
  {
   "cell_type": "code",
   "execution_count": 7,
   "metadata": {
    "collapsed": true
   },
   "outputs": [],
   "source": [
    "model.load_state_dict(torch.load(dir_path + '/SRU_acc-4476.model'))\n",
    "if gpu == True:\n",
    "    model.cuda()\n",
    "    model._gpu = True\n",
    "    model.A_mask = model.A_mask.cuda()\n",
    "    optimizer.load_state_dict(torch.load(dir_path + '/SRU_acc-4476.state'))\n",
    "else:\n",
    "    model.cpu()\n",
    "    model._gpu = False\n",
    "    model.A_mask = model.A_mask.cpu()"
   ]
  },
  {
   "cell_type": "markdown",
   "metadata": {},
   "source": [
    "## 5. 訓練（optional）"
   ]
  },
  {
   "cell_type": "code",
   "execution_count": 8,
   "metadata": {
    "scrolled": true
   },
   "outputs": [
    {
     "name": "stdout",
     "output_type": "stream",
     "text": [
      "EPOCH:: 1, (3m 9s) train_cost: 0.179, test_cost: 0.177, train_acc: 0.447, test_acc: 0.447\n",
      "EPOCH:: 2, (6m 15s) train_cost: 0.174, test_cost: 0.172, train_acc: 0.449, test_acc: 0.445\n",
      "EPOCH:: 3, (9m 26s) train_cost: 0.168, test_cost: 0.164, train_acc: 0.451, test_acc: 0.449\n",
      "EPOCH:: 4, (12m 51s) train_cost: 0.179, test_cost: 0.170, train_acc: 0.447, test_acc: 0.447\n",
      "EPOCH:: 5, (16m 11s) train_cost: 0.176, test_cost: 0.180, train_acc: 0.448, test_acc: 0.444\n",
      "EPOCH:: 6, (19m 20s) train_cost: 0.175, test_cost: 0.179, train_acc: 0.448, test_acc: 0.446\n",
      "EPOCH:: 7, (22m 27s) train_cost: 0.171, test_cost: 0.156, train_acc: 0.450, test_acc: 0.452\n",
      "EPOCH:: 8, (25m 32s) train_cost: 0.162, test_cost: 0.221, train_acc: 0.452, test_acc: 0.433\n",
      "EPOCH:: 9, (28m 41s) train_cost: 0.172, test_cost: 0.165, train_acc: 0.450, test_acc: 0.449\n",
      "EPOCH:: 10, (31m 50s) train_cost: 0.172, test_cost: 0.159, train_acc: 0.450, test_acc: 0.450\n",
      "EPOCH:: 11, (34m 57s) train_cost: 0.164, test_cost: 0.176, train_acc: 0.452, test_acc: 0.446\n",
      "EPOCH:: 12, (38m 3s) train_cost: 0.166, test_cost: 0.161, train_acc: 0.450, test_acc: 0.450\n",
      "EPOCH:: 13, (41m 11s) train_cost: 0.187, test_cost: 0.154, train_acc: 0.447, test_acc: 0.453\n",
      "EPOCH:: 14, (44m 18s) train_cost: 0.163, test_cost: 0.172, train_acc: 0.451, test_acc: 0.451\n",
      "EPOCH:: 15, (47m 46s) train_cost: 0.159, test_cost: 0.148, train_acc: 0.453, test_acc: 0.455\n",
      "EPOCH:: 16, (51m 6s) train_cost: 0.161, test_cost: 0.161, train_acc: 0.452, test_acc: 0.450\n"
     ]
    },
    {
     "ename": "KeyboardInterrupt",
     "evalue": "",
     "output_type": "error",
     "traceback": [
      "\u001b[0;31m-----------------------------------------------------------------\u001b[0m",
      "\u001b[0;31mKeyboardInterrupt\u001b[0m               Traceback (most recent call last)",
      "\u001b[0;32m<ipython-input-8-f4768466dc0e>\u001b[0m in \u001b[0;36m<module>\u001b[0;34m()\u001b[0m\n\u001b[1;32m     23\u001b[0m         \u001b[0;32mif\u001b[0m \u001b[0mgpu\u001b[0m \u001b[0;34m==\u001b[0m \u001b[0;32mTrue\u001b[0m\u001b[0;34m:\u001b[0m\u001b[0;34m\u001b[0m\u001b[0m\n\u001b[1;32m     24\u001b[0m             \u001b[0minputs\u001b[0m\u001b[0;34m,\u001b[0m \u001b[0mlabels\u001b[0m \u001b[0;34m=\u001b[0m \u001b[0minputs\u001b[0m\u001b[0;34m.\u001b[0m\u001b[0mcuda\u001b[0m\u001b[0;34m(\u001b[0m\u001b[0;34m)\u001b[0m\u001b[0;34m,\u001b[0m \u001b[0mlabels\u001b[0m\u001b[0;34m.\u001b[0m\u001b[0mcuda\u001b[0m\u001b[0;34m(\u001b[0m\u001b[0;34m)\u001b[0m\u001b[0;34m\u001b[0m\u001b[0m\n\u001b[0;32m---> 25\u001b[0;31m         \u001b[0mcost\u001b[0m\u001b[0;34m,\u001b[0m \u001b[0maccuracy\u001b[0m \u001b[0;34m=\u001b[0m \u001b[0mtrain\u001b[0m\u001b[0;34m(\u001b[0m\u001b[0mmodel\u001b[0m\u001b[0;34m,\u001b[0m \u001b[0minputs\u001b[0m\u001b[0;34m,\u001b[0m \u001b[0mlabels\u001b[0m\u001b[0;34m,\u001b[0m \u001b[0moptimizer\u001b[0m\u001b[0;34m,\u001b[0m \u001b[0mcriterion\u001b[0m\u001b[0;34m,\u001b[0m \u001b[0mclip\u001b[0m\u001b[0;34m)\u001b[0m\u001b[0;34m\u001b[0m\u001b[0m\n\u001b[0m\u001b[1;32m     26\u001b[0m         \u001b[0mtrain_cost\u001b[0m \u001b[0;34m+=\u001b[0m \u001b[0mcost\u001b[0m \u001b[0;34m/\u001b[0m \u001b[0mn_batches\u001b[0m\u001b[0;34m\u001b[0m\u001b[0m\n\u001b[1;32m     27\u001b[0m         \u001b[0mtrain_acc\u001b[0m  \u001b[0;34m+=\u001b[0m \u001b[0maccuracy\u001b[0m \u001b[0;34m/\u001b[0m \u001b[0mn_batches\u001b[0m\u001b[0;34m\u001b[0m\u001b[0m\n",
      "\u001b[0;32m<ipython-input-3-ac9821fc2c0d>\u001b[0m in \u001b[0;36mtrain\u001b[0;34m(model, inputs, labels, optimizer, criterion, clip)\u001b[0m\n\u001b[1;32m     15\u001b[0m     \u001b[0mloss\u001b[0m \u001b[0;34m=\u001b[0m \u001b[0mcriterion\u001b[0m\u001b[0;34m(\u001b[0m\u001b[0moutputs\u001b[0m\u001b[0;34m,\u001b[0m \u001b[0mlabels\u001b[0m\u001b[0;34m)\u001b[0m\u001b[0;34m\u001b[0m\u001b[0m\n\u001b[1;32m     16\u001b[0m     \u001b[0mtorch\u001b[0m\u001b[0;34m.\u001b[0m\u001b[0mnn\u001b[0m\u001b[0;34m.\u001b[0m\u001b[0mutils\u001b[0m\u001b[0;34m.\u001b[0m\u001b[0mclip_grad_norm\u001b[0m\u001b[0;34m(\u001b[0m\u001b[0mmodel\u001b[0m\u001b[0;34m.\u001b[0m\u001b[0mparameters\u001b[0m\u001b[0;34m(\u001b[0m\u001b[0;34m)\u001b[0m\u001b[0;34m,\u001b[0m \u001b[0mclip\u001b[0m\u001b[0;34m)\u001b[0m \u001b[0;31m# gradient clipping\u001b[0m\u001b[0;34m\u001b[0m\u001b[0m\n\u001b[0;32m---> 17\u001b[0;31m     \u001b[0mloss\u001b[0m\u001b[0;34m.\u001b[0m\u001b[0mbackward\u001b[0m\u001b[0;34m(\u001b[0m\u001b[0;34m)\u001b[0m\u001b[0;34m\u001b[0m\u001b[0m\n\u001b[0m\u001b[1;32m     18\u001b[0m     \u001b[0moptimizer\u001b[0m\u001b[0;34m.\u001b[0m\u001b[0mstep\u001b[0m\u001b[0;34m(\u001b[0m\u001b[0;34m)\u001b[0m\u001b[0;34m\u001b[0m\u001b[0m\n\u001b[1;32m     19\u001b[0m     \u001b[0macc\u001b[0m \u001b[0;34m=\u001b[0m \u001b[0;34m(\u001b[0m\u001b[0mtorch\u001b[0m\u001b[0;34m.\u001b[0m\u001b[0mmax\u001b[0m\u001b[0;34m(\u001b[0m\u001b[0moutputs\u001b[0m\u001b[0;34m,\u001b[0m \u001b[0;36m1\u001b[0m\u001b[0;34m)\u001b[0m\u001b[0;34m[\u001b[0m\u001b[0;36m1\u001b[0m\u001b[0;34m]\u001b[0m \u001b[0;34m==\u001b[0m \u001b[0mlabels\u001b[0m\u001b[0;34m)\u001b[0m\u001b[0;34m.\u001b[0m\u001b[0msum\u001b[0m\u001b[0;34m(\u001b[0m\u001b[0;34m)\u001b[0m\u001b[0;34m.\u001b[0m\u001b[0mdata\u001b[0m\u001b[0;34m[\u001b[0m\u001b[0;36m0\u001b[0m\u001b[0;34m]\u001b[0m \u001b[0;34m/\u001b[0m \u001b[0mbatch_size\u001b[0m\u001b[0;34m\u001b[0m\u001b[0m\n",
      "\u001b[0;32m/home/akuzawa-kei/.pyenv/versions/anaconda3-4.4.0/envs/tf_py35/lib/python3.5/site-packages/torch/autograd/variable.py\u001b[0m in \u001b[0;36mbackward\u001b[0;34m(self, gradient, retain_graph, create_graph, retain_variables)\u001b[0m\n\u001b[1;32m    154\u001b[0m                 \u001b[0mVariable\u001b[0m\u001b[0;34m.\u001b[0m\u001b[0;34m\u001b[0m\u001b[0m\n\u001b[1;32m    155\u001b[0m         \"\"\"\n\u001b[0;32m--> 156\u001b[0;31m         \u001b[0mtorch\u001b[0m\u001b[0;34m.\u001b[0m\u001b[0mautograd\u001b[0m\u001b[0;34m.\u001b[0m\u001b[0mbackward\u001b[0m\u001b[0;34m(\u001b[0m\u001b[0mself\u001b[0m\u001b[0;34m,\u001b[0m \u001b[0mgradient\u001b[0m\u001b[0;34m,\u001b[0m \u001b[0mretain_graph\u001b[0m\u001b[0;34m,\u001b[0m \u001b[0mcreate_graph\u001b[0m\u001b[0;34m,\u001b[0m \u001b[0mretain_variables\u001b[0m\u001b[0;34m)\u001b[0m\u001b[0;34m\u001b[0m\u001b[0m\n\u001b[0m\u001b[1;32m    157\u001b[0m \u001b[0;34m\u001b[0m\u001b[0m\n\u001b[1;32m    158\u001b[0m     \u001b[0;32mdef\u001b[0m \u001b[0mregister_hook\u001b[0m\u001b[0;34m(\u001b[0m\u001b[0mself\u001b[0m\u001b[0;34m,\u001b[0m \u001b[0mhook\u001b[0m\u001b[0;34m)\u001b[0m\u001b[0;34m:\u001b[0m\u001b[0;34m\u001b[0m\u001b[0m\n",
      "\u001b[0;32m/home/akuzawa-kei/.pyenv/versions/anaconda3-4.4.0/envs/tf_py35/lib/python3.5/site-packages/torch/autograd/__init__.py\u001b[0m in \u001b[0;36mbackward\u001b[0;34m(variables, grad_variables, retain_graph, create_graph, retain_variables)\u001b[0m\n\u001b[1;32m     96\u001b[0m \u001b[0;34m\u001b[0m\u001b[0m\n\u001b[1;32m     97\u001b[0m     Variable._execution_engine.run_backward(\n\u001b[0;32m---> 98\u001b[0;31m         variables, grad_variables, retain_graph)\n\u001b[0m\u001b[1;32m     99\u001b[0m \u001b[0;34m\u001b[0m\u001b[0m\n\u001b[1;32m    100\u001b[0m \u001b[0;34m\u001b[0m\u001b[0m\n",
      "\u001b[0;31mKeyboardInterrupt\u001b[0m: "
     ]
    }
   ],
   "source": [
    "''' 訓練 '''\n",
    "\n",
    "n_epochs = 50\n",
    "batch_size = 512\n",
    "n_batches = train_X.shape[0]//batch_size\n",
    "n_batches_test = test_X.shape[0]//batch_size\n",
    "all_acc = []\n",
    "start_time = time.time()\n",
    "\n",
    "for epoch in range(n_epochs):\n",
    "    train_cost, test_cost, train_acc, test_acc  = 0, 0, 0, 0\n",
    "    train_X, train_y = shuffle(train_X, train_y, random_state=seed)\n",
    "\n",
    "    # 訓練\n",
    "    model.train()\n",
    "    train_X_t = np.transpose(train_X, (1, 0, 2)) # X.shape => (seq_len, n_samples, n_features) に変換\n",
    "    for i in range(n_batches):\n",
    "        start = i * batch_size\n",
    "        end = start + batch_size\n",
    "        inputs, labels = train_X_t[:, start:end, :], train_y[start:end]\n",
    "        inputs, labels = Variable(torch.from_numpy(inputs)\n",
    "                         ), Variable(torch.from_numpy(labels))\n",
    "        if gpu == True:\n",
    "            inputs, labels = inputs.cuda(), labels.cuda()\n",
    "        cost, accuracy = train(model, inputs, labels, optimizer, criterion, clip)\n",
    "        train_cost += cost / n_batches\n",
    "        train_acc  += accuracy / n_batches\n",
    "\n",
    "    # 検証\n",
    "    model.eval()\n",
    "    test_X_t = np.transpose(test_X, (1, 0, 2))\n",
    "    for i in range(n_batches_test):\n",
    "        start = i * batch_size\n",
    "        end = start + batch_size\n",
    "        inputs, labels = test_X_t[:, start:end, :], test_y[start:end]\n",
    "        inputs, labels = Variable(torch.from_numpy(inputs)\n",
    "                         ), Variable(torch.from_numpy(labels))\n",
    "        if gpu == True:\n",
    "            inputs, labels = inputs.cuda(), labels.cuda()\n",
    "        cost, accuracy = test(model, inputs, labels, criterion)\n",
    "        test_cost += cost / n_batches_test\n",
    "        test_acc += accuracy / n_batches_test\n",
    "\n",
    "    print('EPOCH:: %i, (%s) train_cost: %.3f, test_cost: %.3f, train_acc: %.3f, test_acc: %.3f' % (epoch + 1,\n",
    "                       timeSince(start_time), train_cost, test_cost, train_acc, test_acc))\n",
    "\n",
    "    # 過去のエポックのtest_accを上回った時だけモデルの保存\n",
    "    if len(all_acc) == 0 or test_acc > max(all_acc):\n",
    "        checkpoint(model, optimizer, test_acc*10000)\n",
    "    all_acc.append(test_acc)\n",
    "\n",
    "print('Finished Training')"
   ]
  },
  {
   "cell_type": "markdown",
   "metadata": {},
   "source": [
    "## 6. テスト"
   ]
  },
  {
   "cell_type": "code",
   "execution_count": 26,
   "metadata": {},
   "outputs": [
    {
     "name": "stdout",
     "output_type": "stream",
     "text": [
      "0.432\n"
     ]
    }
   ],
   "source": [
    "model.eval()\n",
    "test_X_t = np.transpose(test_X[:500], (1, 0, 2))\n",
    "inputs, labels = test_X_t, test_y[:500]\n",
    "inputs, labels = Variable(torch.from_numpy(inputs)\n",
    "                 ), Variable(torch.from_numpy(labels))\n",
    "if gpu == True:\n",
    "    inputs, labels = inputs.cuda(), labels.cuda()\n",
    "cost, accuracy = test(model, inputs, labels, criterion)\n",
    "print(accuracy)"
   ]
  },
  {
   "cell_type": "code",
   "execution_count": null,
   "metadata": {
    "collapsed": true
   },
   "outputs": [],
   "source": []
  }
 ],
 "metadata": {
  "kernelspec": {
   "display_name": "tf_py35",
   "language": "python",
   "name": "tf_py35"
  },
  "language_info": {
   "codemirror_mode": {
    "name": "ipython",
    "version": 3
   },
   "file_extension": ".py",
   "mimetype": "text/x-python",
   "name": "python",
   "nbconvert_exporter": "python",
   "pygments_lexer": "ipython3",
   "version": "3.5.3"
  }
 },
 "nbformat": 4,
 "nbformat_minor": 2
}
