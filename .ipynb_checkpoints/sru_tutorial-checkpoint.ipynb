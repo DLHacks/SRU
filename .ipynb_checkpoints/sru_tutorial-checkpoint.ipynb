{
 "cells": [
  {
   "cell_type": "code",
   "execution_count": 1,
   "metadata": {},
   "outputs": [
    {
     "name": "stdout",
     "output_type": "stream",
     "text": [
      "['data/names/Korean.txt', 'data/names/Spanish.txt', 'data/names/Scottish.txt', 'data/names/Russian.txt', 'data/names/Japanese.txt', 'data/names/Polish.txt', 'data/names/Czech.txt', 'data/names/French.txt', 'data/names/Dutch.txt', 'data/names/Irish.txt', 'data/names/German.txt', 'data/names/Portuguese.txt', 'data/names/Vietnamese.txt', 'data/names/English.txt', 'data/names/Italian.txt', 'data/names/Greek.txt', 'data/names/Arabic.txt', 'data/names/Chinese.txt']\n",
      "Slusarski\n"
     ]
    }
   ],
   "source": [
    "\n",
    "from io import open\n",
    "import glob\n",
    "\n",
    "def findFiles(path): return glob.glob(path)\n",
    "\n",
    "print(findFiles('data/names/*.txt'))\n",
    "\n",
    "import unicodedata\n",
    "import string\n",
    "\n",
    "all_letters = string.ascii_letters + \" .,;'\"\n",
    "n_letters = len(all_letters)\n",
    "\n",
    "# Turn a Unicode string to plain ASCII, thanks to http://stackoverflow.com/a/518232/2809427\n",
    "def unicodeToAscii(s):\n",
    "    return ''.join(\n",
    "        c for c in unicodedata.normalize('NFD', s)\n",
    "        if unicodedata.category(c) != 'Mn'\n",
    "        and c in all_letters\n",
    "    )\n",
    "\n",
    "print(unicodeToAscii('Ślusàrski'))\n",
    "\n",
    "# Build the category_lines dictionary, a list of names per language\n",
    "category_lines = {}\n",
    "all_categories = []\n",
    "\n",
    "# Read a file and split into lines\n",
    "def readLines(filename):\n",
    "    lines = open(filename, encoding='utf-8').read().strip().split('\\n')\n",
    "    return [unicodeToAscii(line) for line in lines]\n",
    "\n",
    "for filename in findFiles('data/names/*.txt'):\n",
    "    category = filename.split('/')[-1].split('.')[0]\n",
    "    all_categories.append(category)\n",
    "    lines = readLines(filename)\n",
    "    category_lines[category] = lines\n",
    "\n",
    "n_categories = len(all_categories)"
   ]
  },
  {
   "cell_type": "code",
   "execution_count": 2,
   "metadata": {
    "scrolled": true
   },
   "outputs": [
    {
     "name": "stdout",
     "output_type": "stream",
     "text": [
      "\n",
      "\n",
      "Columns 0 to 12 \n",
      "    0     0     0     0     0     0     0     0     0     0     0     0     0\n",
      "\n",
      "Columns 13 to 25 \n",
      "    0     0     0     0     0     0     0     0     0     0     0     0     0\n",
      "\n",
      "Columns 26 to 38 \n",
      "    0     0     0     0     0     0     0     0     0     1     0     0     0\n",
      "\n",
      "Columns 39 to 51 \n",
      "    0     0     0     0     0     0     0     0     0     0     0     0     0\n",
      "\n",
      "Columns 52 to 56 \n",
      "    0     0     0     0     0\n",
      "[torch.FloatTensor of size 1x57]\n",
      "\n",
      "torch.Size([5, 1, 57])\n"
     ]
    }
   ],
   "source": [
    "import torch\n",
    "\n",
    "# Find letter index from all_letters, e.g. \"a\" = 0\n",
    "def letterToIndex(letter):\n",
    "    return all_letters.find(letter)\n",
    "\n",
    "# Just for demonstration, turn a letter into a <1 x n_letters> Tensor\n",
    "def letterToTensor(letter):\n",
    "    tensor = torch.zeros(1, n_letters)\n",
    "    tensor[0][letterToIndex(letter)] = 1\n",
    "    return tensor\n",
    "\n",
    "# Turn a line into a <line_length x 1 x n_letters>,\n",
    "# or an array of one-hot letter vectors\n",
    "def lineToTensor(line):\n",
    "    tensor = torch.zeros(len(line), 1, n_letters)\n",
    "    for li, letter in enumerate(line):\n",
    "        tensor[li][0][letterToIndex(letter)] = 1\n",
    "    return tensor\n",
    "\n",
    "print(letterToTensor('J'))\n",
    "\n",
    "print(lineToTensor('Jones').size()) # <line_length x 1 x n_letters>"
   ]
  },
  {
   "cell_type": "code",
   "execution_count": 93,
   "metadata": {
    "collapsed": true
   },
   "outputs": [],
   "source": [
    "import numpy as np\n",
    "import torch.nn as nn\n",
    "from torch.autograd import Variable\n",
    "\n",
    "\n",
    "class SRU(nn.Module):\n",
    "    def __init__(self, x_dim, phi_dim, r_dim, o_dim, A):\n",
    "        \"\"\" \n",
    "        args: x_dim:   入力xの次元\n",
    "              phi_dim: phiの次元。\\mu^{\\alpha}の次元とも等しい\n",
    "              r_dim:   rの次元\n",
    "              o_dim:   出力oの次元\n",
    "              A:       {\\alpha_1, \\alpha_2, ..., \\alpha_m}\n",
    "        \"\"\"\n",
    "\n",
    "        super(SRU, self).__init__()\n",
    "\n",
    "        n_alpha      = len(A)\n",
    "        self.n_alpha = n_alpha\n",
    "        self.A       = A\n",
    "        self.phi_dim = phi_dim\n",
    "        # muの次元 = phiの次元*alphaの個数\n",
    "        mu_dim = phi_dim * n_alpha \n",
    "        self.mu_dim = mu_dim\n",
    "        \n",
    "        # 各結合の定義\n",
    "        self.mu2r    = nn.Linear(mu_dim, r_dim)\n",
    "        self.xr2phi  = nn.Linear(x_dim + r_dim, phi_dim)\n",
    "        self.mu2o    = nn.Linear(mu_dim, o_dim)\n",
    "        self.softmax = nn.LogSoftmax()\n",
    "\n",
    "    def forward(self, x, mu):\n",
    "        \n",
    "        r = self.mu2r(mu)\n",
    "        phi = self.xr2phi(torch.cat((x, r), 1))\n",
    "        mu = self.muphi2mu(mu, phi)\n",
    "        o = self.mu2o(mu)\n",
    "        o = self.softmax(o)\n",
    "        return o, mu\n",
    "    \n",
    "    def muphi2mu(self, mu, phi):\n",
    "\n",
    "        ''' すべてのalphaについて、\\mu_t^{\\alpha} = \\alpha \\mu_{t-1}^{\\alpha} + (1-\\alpha) \\phi_t を同時に行う\n",
    "        mask:     Kronecker product of (A, ones(phi_dim))\n",
    "        phi_tile: Kronecker product of (ones(n_alpha), phi)\n",
    "        '''\n",
    "        \n",
    "        A_expanded = self.A.expand(phi_dim, self.n_alpha)\n",
    "        mask = torch.t(A_expanded).contiguous().view(-1)\n",
    "        # 要素積をとるためにmaskをVariableに変換するが、あくまでmaskは定数項なのでrequires_grad=Falseをつける\n",
    "        mask = Variable(mask, requires_grad=False)\n",
    "        phi_expanded = phi.view(-1).expand(self.n_alpha, self.phi_dim)\n",
    "        phi_repeated = phi_expanded.contiguous().view(-1)\n",
    "        mu = torch.add(torch.mul(mask, mu.view(-1)), torch.mul((1-mask), phi_repeated)).view(1, -1)\n",
    "        return mu\n",
    "\n",
    "    def initMu(self):\n",
    "        return Variable(torch.zeros(1, self.mu_dim))\n",
    "    \n",
    "\n",
    "phi_dim = 128\n",
    "r_dim = 60\n",
    "A = torch.Tensor([0.0, 0.5, 0.9, 0.99])\n",
    "\n",
    "sru = SRU(n_letters, phi_dim, r_dim, n_categories, A)\n"
   ]
  },
  {
   "cell_type": "code",
   "execution_count": null,
   "metadata": {
    "collapsed": true
   },
   "outputs": [],
   "source": [
    "''' forwardの動作確認 '''\n",
    "input = Variable(letterToTensor('A'))\n",
    "mu_0 = Variable(torch.zeros(1, phi_dim*len(A)))\n",
    "output, mu_t = sru(input, mu_0)"
   ]
  },
  {
   "cell_type": "code",
   "execution_count": 104,
   "metadata": {},
   "outputs": [
    {
     "name": "stdout",
     "output_type": "stream",
     "text": [
      "('Scottish', 2)\n",
      "category = French / line = Armistead\n",
      "category = Irish / line = Finn\n",
      "category = Russian / line = Holodilov\n",
      "category = Italian / line = Tumicelli\n",
      "category = Japanese / line = Seo\n",
      "category = Portuguese / line = Soares\n",
      "category = Polish / line = Kijek\n",
      "category = Korean / line = Kwak\n",
      "category = Scottish / line = Johnstone\n",
      "category = Greek / line = Close\n"
     ]
    }
   ],
   "source": [
    "def categoryFromOutput(output):\n",
    "    top_n, top_i = output.data.topk(1) # Tensor out of Variable with .data\n",
    "    category_i = top_i[0][0]\n",
    "    return all_categories[category_i], category_i\n",
    "\n",
    "print(categoryFromOutput(output))\n",
    "\n",
    "import random\n",
    "\n",
    "def randomChoice(l):\n",
    "    return l[random.randint(0, len(l) - 1)]\n",
    "\n",
    "def randomTrainingExample():\n",
    "    category = randomChoice(all_categories)\n",
    "    line = randomChoice(category_lines[category])\n",
    "    category_tensor = Variable(torch.LongTensor([all_categories.index(category)]))\n",
    "    line_tensor = Variable(lineToTensor(line))\n",
    "    return category, line, category_tensor, line_tensor\n",
    "\n",
    "for i in range(10):\n",
    "    category, line, category_tensor, line_tensor = randomTrainingExample()\n",
    "    print('category =', category, '/ line =', line)"
   ]
  },
  {
   "cell_type": "code",
   "execution_count": 105,
   "metadata": {
    "collapsed": true
   },
   "outputs": [],
   "source": [
    "criterion = nn.NLLLoss()"
   ]
  },
  {
   "cell_type": "code",
   "execution_count": 106,
   "metadata": {
    "collapsed": true
   },
   "outputs": [],
   "source": [
    "learning_rate = 0.005 # If you set this too high, it might explode. If too low, it might not learn\n",
    "\n",
    "def train(category_tensor, line_tensor):\n",
    "    mu = sru.initMu()\n",
    "\n",
    "    sru.zero_grad()\n",
    "\n",
    "    for i in range(line_tensor.size()[0]):\n",
    "        o, mu = sru(line_tensor[i], mu)\n",
    "\n",
    "    loss = criterion(o, category_tensor)\n",
    "    loss.backward()\n",
    "\n",
    "    # Add parameters' gradients to their values, multiplied by learning rate\n",
    "    for p in sru.parameters():\n",
    "        p.data.add_(-learning_rate, p.grad.data)\n",
    "\n",
    "    return o, loss.data[0]"
   ]
  },
  {
   "cell_type": "code",
   "execution_count": null,
   "metadata": {},
   "outputs": [
    {
     "name": "stdout",
     "output_type": "stream",
     "text": [
      "5000 5% (0m 57s) 0.2801 Tchajengin / Russian ✓\n",
      "10000 10% (1m 56s) 0.2744 Moon / Korean ✓\n",
      "15000 15% (2m 55s) 3.1425 Shaw / Chinese ✗ (Scottish)\n",
      "20000 20% (3m 53s) 0.7539 Ebner / German ✓\n"
     ]
    }
   ],
   "source": [
    "import time\n",
    "import math\n",
    "\n",
    "n_iters = 100000\n",
    "print_every = 5000\n",
    "plot_every = 1000\n",
    "\n",
    "\n",
    "\n",
    "# Keep track of losses for plotting\n",
    "current_loss = 0\n",
    "all_losses = []\n",
    "\n",
    "def timeSince(since):\n",
    "    now = time.time()\n",
    "    s = now - since\n",
    "    m = math.floor(s / 60)\n",
    "    s -= m * 60\n",
    "    return '%dm %ds' % (m, s)\n",
    "\n",
    "start = time.time()\n",
    "\n",
    "for iter in range(1, n_iters + 1):\n",
    "    category, line, category_tensor, line_tensor = randomTrainingExample()\n",
    "    output, loss = train(category_tensor, line_tensor)\n",
    "    current_loss += loss\n",
    "\n",
    "    # Print iter number, loss, name and guess\n",
    "    if iter % print_every == 0:\n",
    "        guess, guess_i = categoryFromOutput(output)\n",
    "        correct = '✓' if guess == category else '✗ (%s)' % category\n",
    "        print('%d %d%% (%s) %.4f %s / %s %s' % (iter, iter / n_iters * 100, timeSince(start), loss, line, guess, correct))\n",
    "\n",
    "    # Add current loss avg to list of losses\n",
    "    if iter % plot_every == 0:\n",
    "        all_losses.append(current_loss / plot_every)\n",
    "        current_loss = 0"
   ]
  },
  {
   "cell_type": "code",
   "execution_count": null,
   "metadata": {
    "collapsed": true
   },
   "outputs": [],
   "source": []
  }
 ],
 "metadata": {
  "kernelspec": {
   "display_name": "tf_py35",
   "language": "python",
   "name": "tf_py35"
  },
  "language_info": {
   "codemirror_mode": {
    "name": "ipython",
    "version": 3
   },
   "file_extension": ".py",
   "mimetype": "text/x-python",
   "name": "python",
   "nbconvert_exporter": "python",
   "pygments_lexer": "ipython3",
   "version": "3.5.3"
  }
 },
 "nbformat": 4,
 "nbformat_minor": 2
}
