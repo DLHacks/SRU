{
 "cells": [
  {
   "cell_type": "code",
   "execution_count": 1,
   "metadata": {},
   "outputs": [
    {
     "name": "stderr",
     "output_type": "stream",
     "text": [
      "Using TensorFlow backend.\n"
     ]
    }
   ],
   "source": [
    "import numpy as np\n",
    "from keras.utils import np_utils\n",
    "from keras.datasets import mnist"
   ]
  },
  {
   "cell_type": "code",
   "execution_count": 2,
   "metadata": {
    "collapsed": true
   },
   "outputs": [],
   "source": [
    "''' データセットの準備 '''\n",
    "\n",
    "(X_train, y_train), (X_test, y_test) = mnist.load_data()\n",
    "\n",
    "# yをone-hot表現に\n",
    "# y_train = np_utils.to_categorical(y_train)\n",
    "# y_test = np_utils.to_categorical(y_test)\n",
    "\n",
    "# x, yの型変換\n",
    "X_train, X_test = X_train.astype('float32'), X_test.astype('float32')\n",
    "y_train, y_test = y_train.astype('int64'), y_test.astype('int64')\n",
    "\n",
    "# xの範囲を[0, 1]に変換\n",
    "X_train /= 255\n",
    "X_test /= 255\n",
    "\n",
    "# 2次元の画像を、各行を互い違いにして1次元に変換\n",
    "def flatten_img(images):\n",
    "    '''\n",
    "    images: shape => (n, rows, columns)\n",
    "    output: shape => (n, rows*columns)\n",
    "    '''\n",
    "    n_rows    = images.shape[1]\n",
    "    n_columns = images.shape[2]\n",
    "    for num in range(n_rows):\n",
    "        if num % 2 != 0:\n",
    "            images[:, num, :] = images[:, num, :][:, ::-1]\n",
    "    output = images.reshape(-1, n_rows*n_columns)\n",
    "    return output\n",
    "\n",
    "X_train, X_test = flatten_img(X_train), flatten_img(X_test)\n",
    "\n",
    "# X.shape => (n_sample, seq_size, n_features) に変換\n",
    "X_train, X_test = X_train[:, :, np.newaxis], X_test[:, :, np.newaxis]\n",
    "\n"
   ]
  },
  {
   "cell_type": "code",
   "execution_count": 3,
   "metadata": {
    "collapsed": true
   },
   "outputs": [],
   "source": [
    "''' SRUモデルの定義 '''\n",
    "\n",
    "import torch\n",
    "import torch.nn as nn\n",
    "from torch.autograd import Variable\n",
    "\n",
    "\n",
    "class SRU(nn.Module):\n",
    "    def __init__(self, x_dim, phi_dim, r_dim, o_dim, A):\n",
    "        \"\"\" \n",
    "        x_dim:   入力xの次元（特徴量数）\n",
    "        phi_dim: phiの次元。\\mu^{\\alpha}の次元とも等しい\n",
    "        r_dim:   rの次元\n",
    "        o_dim:   出力oの次元\n",
    "        A:       [\\alpha_1, \\alpha_2, ..., \\alpha_m], shape: (1, m)\n",
    "        \"\"\"\n",
    "\n",
    "        super(SRU, self).__init__()\n",
    "\n",
    "        n_alpha      = A.size()[1]\n",
    "        self.n_alpha = n_alpha\n",
    "        self.A       = A\n",
    "        self.phi_dim = phi_dim\n",
    "        # muの次元 = phiの次元*alphaの個数\n",
    "        mu_dim = phi_dim * n_alpha \n",
    "        self.mu_dim = mu_dim\n",
    "        \n",
    "        # 各結合の定義\n",
    "        self.mu2r    = nn.Linear(mu_dim, r_dim)\n",
    "        self.xr2phi  = nn.Linear(x_dim + r_dim, phi_dim)\n",
    "        self.mu2o    = nn.Linear(mu_dim, o_dim)\n",
    "        self.softmax = nn.LogSoftmax()\n",
    "\n",
    "    def forward(self, x, mu):\n",
    "        '''\n",
    "        x.size()  => (sample_size, x_dim)\n",
    "        mu.size() => (sample_size, mu_dim)\n",
    "        '''\n",
    "\n",
    "        r = self.mu2r(mu)\n",
    "        phi = self.xr2phi(torch.cat((x, r), 1))\n",
    "        mu = self.muphi2mu(mu, phi)\n",
    "        o = self.mu2o(mu)\n",
    "        o = self.softmax(o)\n",
    "        return o, mu\n",
    "    \n",
    "    def muphi2mu(self, mu, phi):\n",
    "\n",
    "        ''' すべての\\alphaについて、\\mu_t^{(\\alpha)} = \\alpha \\mu_{t-1}^{(\\alpha)} + (1-\\alpha) \\phi_t を同時に行う\n",
    "        A_mask:   Kronecker product of (A, ones(1, phi_dim)),   shape => (1, mu_dim)\n",
    "        phi_tile: Kronecker product of (ones(1, n_alpha), phi), shape => (sample_size, mu_dim)\n",
    "        '''\n",
    "        if torch.cuda.is_available():\n",
    "            A_mask = kronecker_product(self.A, torch.ones(1, self.phi_dim).cuda())\n",
    "            phi_tile = kronecker_product(Variable(torch.ones(1, self.n_alpha).cuda()), phi)\n",
    "        else:\n",
    "            A_mask = kronecker_product(self.A, torch.ones(1, self.phi_dim))\n",
    "            phi_tile = kronecker_product(Variable(torch.ones(1, self.n_alpha), phi)\n",
    "        # 要素積をとるためにA_maskをVariableに変換するが、A_maskは定数項なのでrequires_grad=Falseをつける\n",
    "        A_mask = Variable(A_mask, requires_grad=False)\n",
    "        mu = torch.mul(A_mask, mu) + torch.mul((1-A_mask), phi_tile)\n",
    "        return mu\n",
    "\n",
    "\n",
    "def kronecker_product(t1, t2):\n",
    "    t1_height, t1_width = t1.size()\n",
    "    t2_height, t2_width = t2.size()\n",
    "    out_height = t1_height * t2_height\n",
    "    out_width = t1_width * t2_width\n",
    "\n",
    "    tiled_t2 = t2.repeat(t1_height, t1_width)\n",
    "    expanded_t1 = (\n",
    "        t1.unsqueeze(2)\n",
    "          .unsqueeze(3)\n",
    "          .repeat(1, t2_height, t2_width, 1)\n",
    "          .view(out_height, out_width)\n",
    "    )\n",
    "\n",
    "    return expanded_t1 * tiled_t2\n",
    "\n"
   ]
  },
  {
   "cell_type": "code",
   "execution_count": 4,
   "metadata": {
    "collapsed": true
   },
   "outputs": [],
   "source": [
    "''' パラメータの設定 '''\n",
    "\n",
    "x_dim = X_train.shape[2]\n",
    "phi_dim = 128\n",
    "r_dim = 60\n",
    "o_dim = np.unique(y_train).size\n",
    "A = torch.Tensor([0.0, 0.5, 0.9, 0.99]).view(1, -1).cuda()\n",
    "sru = SRU(x_dim, phi_dim, r_dim, o_dim, A)\n",
    "\n",
    "batch_size = 100\n",
    "mu_dim = phi_dim * A.size()[1]"
   ]
  },
  {
   "cell_type": "code",
   "execution_count": 5,
   "metadata": {
    "collapsed": true
   },
   "outputs": [],
   "source": [
    "''' データセットの準備 その2 '''\n",
    "\n",
    "import torch.utils.data\n",
    "\n",
    "train = torch.utils.data.TensorDataset(torch.from_numpy(X_train), torch.from_numpy(y_train))\n",
    "trainloader = torch.utils.data.DataLoader(train, batch_size=batch_size, shuffle=True)\n",
    "test = torch.utils.data.TensorDataset(torch.from_numpy(X_test), torch.from_numpy(y_test))\n",
    "testloader = torch.utils.data.DataLoader(test, batch_size=batch_size, shuffle=True)"
   ]
  },
  {
   "cell_type": "code",
   "execution_count": null,
   "metadata": {
    "collapsed": true
   },
   "outputs": [],
   "source": [
    "SRU."
   ]
  },
  {
   "cell_type": "code",
   "execution_count": 6,
   "metadata": {},
   "outputs": [
    {
     "name": "stdout",
     "output_type": "stream",
     "text": [
      "[1,  1000] loss: 0.012\n",
      "[1,  2000] loss: 0.012\n",
      "[1,  3000] loss: 0.012\n",
      "[1,  4000] loss: 0.012\n",
      "[1,  5000] loss: 0.012\n",
      "[1,  6000] loss: 0.012\n",
      "[1,  7000] loss: 0.012\n",
      "[1,  8000] loss: 0.012\n",
      "[1,  9000] loss: 0.012\n",
      "[1, 10000] loss: 0.012\n",
      "[1, 11000] loss: 0.012\n",
      "[1, 12000] loss: 0.012\n",
      "[1, 13000] loss: 0.012\n",
      "[1, 14000] loss: 0.012\n"
     ]
    },
    {
     "ename": "KeyboardInterrupt",
     "evalue": "",
     "output_type": "error",
     "traceback": [
      "\u001b[0;31m---------------------------------------------------------------------------\u001b[0m",
      "\u001b[0;31mKeyboardInterrupt\u001b[0m                         Traceback (most recent call last)",
      "\u001b[0;32m<ipython-input-6-c190d7d8aa41>\u001b[0m in \u001b[0;36m<module>\u001b[0;34m()\u001b[0m\n\u001b[1;32m     20\u001b[0m             \u001b[0moutputs\u001b[0m\u001b[0;34m,\u001b[0m \u001b[0mmu\u001b[0m \u001b[0;34m=\u001b[0m \u001b[0msru\u001b[0m\u001b[0;34m(\u001b[0m\u001b[0mx\u001b[0m\u001b[0;34m,\u001b[0m \u001b[0mmu\u001b[0m\u001b[0;34m)\u001b[0m\u001b[0;34m\u001b[0m\u001b[0m\n\u001b[1;32m     21\u001b[0m         \u001b[0mloss\u001b[0m \u001b[0;34m=\u001b[0m \u001b[0mcriterion\u001b[0m\u001b[0;34m(\u001b[0m\u001b[0moutputs\u001b[0m\u001b[0;34m,\u001b[0m \u001b[0mlabels\u001b[0m\u001b[0;34m)\u001b[0m\u001b[0;34m\u001b[0m\u001b[0m\n\u001b[0;32m---> 22\u001b[0;31m         \u001b[0mloss\u001b[0m\u001b[0;34m.\u001b[0m\u001b[0mbackward\u001b[0m\u001b[0;34m(\u001b[0m\u001b[0;34m)\u001b[0m\u001b[0;34m\u001b[0m\u001b[0m\n\u001b[0m\u001b[1;32m     23\u001b[0m         \u001b[0moptimizer\u001b[0m\u001b[0;34m.\u001b[0m\u001b[0mstep\u001b[0m\u001b[0;34m(\u001b[0m\u001b[0;34m)\u001b[0m\u001b[0;34m\u001b[0m\u001b[0m\n\u001b[1;32m     24\u001b[0m         \u001b[0mrunning_loss\u001b[0m \u001b[0;34m+=\u001b[0m \u001b[0mloss\u001b[0m\u001b[0;34m.\u001b[0m\u001b[0mdata\u001b[0m\u001b[0;34m[\u001b[0m\u001b[0;36m0\u001b[0m\u001b[0;34m]\u001b[0m\u001b[0;34m\u001b[0m\u001b[0m\n",
      "\u001b[0;32m/home/akuzawa-kei/.pyenv/versions/anaconda3-4.4.0/envs/tf_py35/lib/python3.5/site-packages/torch/autograd/variable.py\u001b[0m in \u001b[0;36mbackward\u001b[0;34m(self, gradient, retain_graph, create_graph, retain_variables)\u001b[0m\n\u001b[1;32m    154\u001b[0m                 \u001b[0mVariable\u001b[0m\u001b[0;34m.\u001b[0m\u001b[0;34m\u001b[0m\u001b[0m\n\u001b[1;32m    155\u001b[0m         \"\"\"\n\u001b[0;32m--> 156\u001b[0;31m         \u001b[0mtorch\u001b[0m\u001b[0;34m.\u001b[0m\u001b[0mautograd\u001b[0m\u001b[0;34m.\u001b[0m\u001b[0mbackward\u001b[0m\u001b[0;34m(\u001b[0m\u001b[0mself\u001b[0m\u001b[0;34m,\u001b[0m \u001b[0mgradient\u001b[0m\u001b[0;34m,\u001b[0m \u001b[0mretain_graph\u001b[0m\u001b[0;34m,\u001b[0m \u001b[0mcreate_graph\u001b[0m\u001b[0;34m,\u001b[0m \u001b[0mretain_variables\u001b[0m\u001b[0;34m)\u001b[0m\u001b[0;34m\u001b[0m\u001b[0m\n\u001b[0m\u001b[1;32m    157\u001b[0m \u001b[0;34m\u001b[0m\u001b[0m\n\u001b[1;32m    158\u001b[0m     \u001b[0;32mdef\u001b[0m \u001b[0mregister_hook\u001b[0m\u001b[0;34m(\u001b[0m\u001b[0mself\u001b[0m\u001b[0;34m,\u001b[0m \u001b[0mhook\u001b[0m\u001b[0;34m)\u001b[0m\u001b[0;34m:\u001b[0m\u001b[0;34m\u001b[0m\u001b[0m\n",
      "\u001b[0;32m/home/akuzawa-kei/.pyenv/versions/anaconda3-4.4.0/envs/tf_py35/lib/python3.5/site-packages/torch/autograd/__init__.py\u001b[0m in \u001b[0;36mbackward\u001b[0;34m(variables, grad_variables, retain_graph, create_graph, retain_variables)\u001b[0m\n\u001b[1;32m     96\u001b[0m \u001b[0;34m\u001b[0m\u001b[0m\n\u001b[1;32m     97\u001b[0m     Variable._execution_engine.run_backward(\n\u001b[0;32m---> 98\u001b[0;31m         variables, grad_variables, retain_graph)\n\u001b[0m\u001b[1;32m     99\u001b[0m \u001b[0;34m\u001b[0m\u001b[0m\n\u001b[1;32m    100\u001b[0m \u001b[0;34m\u001b[0m\u001b[0m\n",
      "\u001b[0;31mKeyboardInterrupt\u001b[0m: "
     ]
    }
   ],
   "source": [
    "''' 訓練 '''\n",
    "\n",
    "import torch.optim as optim\n",
    "\n",
    "criterion = nn.CrossEntropyLoss()\n",
    "optimizer = optim.SGD(sru.parameters(), lr=0.001, momentum=0.9)\n",
    "\n",
    "for epoch in range(2):\n",
    "    running_loss = 0.0\n",
    "    for i, data in enumerate(trainloader, 1):\n",
    "        inputs, labels = data\n",
    "        inputs, labels = Variable(inputs), Variable(labels)\n",
    "        # inputs.size => (seq_size, batch_size, n_features) に変形\n",
    "        inputs = torch.transpose(inputs, 0, 1)\n",
    "        # 隠れ変数の初期化\n",
    "        mu = Variable(torch.zeros(batch_size, mu_dim))\n",
    "        # 勾配の初期化\n",
    "        optimizer.zero_grad()\n",
    "        for x in inputs:\n",
    "            outputs, mu = sru(x, mu)\n",
    "        loss = criterion(outputs, labels)\n",
    "        loss.backward()\n",
    "        optimizer.step()\n",
    "        running_loss += loss.data[0]\n",
    "\n",
    "        # 1000サンプルごとにlossを表示\n",
    "        if i * batch_size % 1000 == 0:\n",
    "            print('[%d, %5d] loss: %.3f' %\n",
    "                  (epoch + 1, i * batch_size, running_loss / 2000))\n",
    "            running_loss = 0.0\n",
    "\n",
    "print('Finished Training')"
   ]
  },
  {
   "cell_type": "code",
   "execution_count": null,
   "metadata": {},
   "outputs": [],
   "source": [
    "''' テスト '''\n",
    "\n",
    "correct = 0\n",
    "total = 0\n",
    "\n",
    "for data in trainloader:\n",
    "    inputs, labels = data\n",
    "    inputs = Variable(inputs)\n",
    "    # inputs.size => (seq_size, batch_size, n_features) に変形\n",
    "    inputs = torch.transpose(inputs, 0, 1)\n",
    "    # 隠れ変数の初期化\n",
    "    mu = Variable(torch.zeros(batch_size, mu_dim))\n",
    "\n",
    "    for x in inputs:\n",
    "        outputs, mu = sru(x, mu)\n",
    "    torch.t(outputs)\n",
    "    _, predicted = torch.max(outputs.data, 1)\n",
    "    total += labels.size(0)\n",
    "    correct += (predicted == labels).sum()\n",
    "\n",
    "print('Accuracy of the test images: %d %%' % (\n",
    "    100 * correct / total))"
   ]
  },
  {
   "cell_type": "code",
   "execution_count": null,
   "metadata": {
    "collapsed": true
   },
   "outputs": [],
   "source": []
  }
 ],
 "metadata": {
  "kernelspec": {
   "display_name": "tf_py35",
   "language": "python",
   "name": "tf_py35"
  },
  "language_info": {
   "codemirror_mode": {
    "name": "ipython",
    "version": 3
   },
   "file_extension": ".py",
   "mimetype": "text/x-python",
   "name": "python",
   "nbconvert_exporter": "python",
   "pygments_lexer": "ipython3",
   "version": "3.5.3"
  }
 },
 "nbformat": 4,
 "nbformat_minor": 2
}
